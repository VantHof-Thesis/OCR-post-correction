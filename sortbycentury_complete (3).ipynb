{
 "cells": [
  {
   "cell_type": "code",
   "execution_count": 45,
   "metadata": {},
   "outputs": [],
   "source": [
    "import re\n",
    "import pandas as pd\n",
    "import os"
   ]
  },
  {
   "cell_type": "code",
   "execution_count": 46,
   "metadata": {},
   "outputs": [],
   "source": [
    "df = pd.read_csv('totalset.csv', compression = 'gzip')\n",
    "pd.set_option('display.max_columns', None)\n",
    "pd.set_option('display.max_rows', None)"
   ]
  },
  {
   "cell_type": "code",
   "execution_count": 47,
   "metadata": {},
   "outputs": [],
   "source": [
    "# df_1 = : 34807\n",
    "# df_2 = 34808 tm 36374 \n",
    "# df_3 = 36375 tm 40374\n",
    "# df_4 = 40375 tm 40593\n",
    "# df_5 = 40594 :\n",
    "\n",
    "df_1 = df[:34808]\n",
    "df_2 = df[34808:36375] \n",
    "df_3 = df[36375:40375]\n",
    "df_4 = df[40375:40594]\n",
    "df_5 = df[40594:]"
   ]
  },
  {
   "cell_type": "code",
   "execution_count": null,
   "metadata": {},
   "outputs": [],
   "source": []
  },
  {
   "cell_type": "code",
   "execution_count": null,
   "metadata": {},
   "outputs": [],
   "source": []
  },
  {
   "cell_type": "code",
   "execution_count": 48,
   "metadata": {},
   "outputs": [
    {
     "name": "stdout",
     "output_type": "stream",
     "text": [
      "40594    537184\n",
      "40595    537185\n",
      "40596    537186\n",
      "40597    537187\n",
      "40598    537188\n",
      "Name: identifier, dtype: object\n",
      "40793    537384\n",
      "40794    537385\n",
      "40795    537386\n",
      "40796    537387\n",
      "40797    537388\n",
      "Name: identifier, dtype: object\n"
     ]
    }
   ],
   "source": [
    "print(df_5['identifier'].head())\n",
    "print(df_5['identifier'].tail())"
   ]
  },
  {
   "cell_type": "code",
   "execution_count": 49,
   "metadata": {},
   "outputs": [
    {
     "name": "stdout",
     "output_type": "stream",
     "text": [
      "df_1: 0    ddd:010728187:mpeg21:a0005\n",
      "Name: identifier, dtype: object\n",
      "df_2: 34808    538813\n",
      "Name: identifier, dtype: object\n",
      "df_3: 36375    DDD_010197037_001.jp2_ocr\n",
      "Name: identifier, dtype: object\n",
      "df_4: 40375    _vad003182501\n",
      "Name: identifier, dtype: object\n",
      "df_5: 40594    537184\n",
      "Name: identifier, dtype: object\n"
     ]
    }
   ],
   "source": [
    "# first_dataset = 0 - 34807, len = 34808 (unique: 6068) = Meertens\n",
    "#df_1 = df[:34808]\n",
    "# second_dataset = 34808 - 36374, len = 1567 = Impact Books\n",
    "#df_2 = df[34808:36375]\n",
    "# third_dataset = 36375 - 40374, len = 4000 (_ocr: 2000) = newspaper pages\n",
    "#df_3 = df[36375:40375-dropped]\n",
    "# fourt_dataset = 40375 - 40593, len = 219 = DBNL books\n",
    "#df_4 = df[40375-dropped:40594-dropped]\n",
    "# fifth_dataset = 40594 - 40797, len = 204 = radiobulletins\n",
    "#df_5 = df[40594-dropped:]\n",
    "\n",
    "print('df_1:', str(df_1['identifier'].head(1))) # Meertens\n",
    "print('df_2:', str(df_2['identifier'].head(1))) # Impact Books\n",
    "print('df_3:', str(df_3['identifier'].head(1))) # newspaper pages\n",
    "print('df_4:', str(df_4['identifier'].head(1))) # DBNL books\n",
    "print('df_5:', str(df_5['identifier'].head(1))) # radiobulletins"
   ]
  },
  {
   "cell_type": "code",
   "execution_count": null,
   "metadata": {},
   "outputs": [],
   "source": []
  },
  {
   "cell_type": "code",
   "execution_count": 50,
   "metadata": {},
   "outputs": [],
   "source": [
    "# for dataset 1: everything is 1600s\n",
    "meta_data2 = pd.read_excel('Metadata_IMPACT_books.xlsx')\n",
    "meta_data3 = pd.read_excel('MetadataHistorical_newspaper_OCR_groundtruth (2).xlsx') \n",
    "meta_data4 = pd.read_excel('Metadata_DBNL_OCR_v1.xlsx')\n",
    "# for dataset 5: everything is 1900s"
   ]
  },
  {
   "cell_type": "code",
   "execution_count": 51,
   "metadata": {},
   "outputs": [
    {
     "name": "stdout",
     "output_type": "stream",
     "text": [
      "Index(['Did', 'Dtitle', 'Dauthor', 'Dyear', 'Dmonth', 'Dday', 'Doriginal'], dtype='object')\n",
      "Index(['Identifier', 'Date of publication', 'Date of production', 'Producer',\n",
      "       'ABBYY Version', 'Title', 'Page number', 'Microfilm'],\n",
      "      dtype='object')\n",
      "Index(['ti_id', 'titel', 'jaar', 'druk'], dtype='object')\n"
     ]
    }
   ],
   "source": [
    "print(meta_data2.columns)\n",
    "print(meta_data3.columns)\n",
    "print(meta_data4.columns)"
   ]
  },
  {
   "cell_type": "code",
   "execution_count": 52,
   "metadata": {},
   "outputs": [
    {
     "name": "stdout",
     "output_type": "stream",
     "text": [
      "meta_data2: 0    529524\n",
      "Name: Did, dtype: int64\n",
      "meta_data3: 0    ddd:011019417:mpeg21\n",
      "Name: Identifier, dtype: object\n",
      "meta_data4: 0    _vad003177601\n",
      "Name: ti_id, dtype: object\n"
     ]
    }
   ],
   "source": [
    "print('meta_data2:', str(meta_data2['Did'].head(1))) # Impact Books\n",
    "print('meta_data3:', str(meta_data3['Identifier'].head(1))) # newspaper pages\n",
    "print('meta_data4:', str(meta_data4['ti_id'].head(1))) # DBNL books"
   ]
  },
  {
   "cell_type": "code",
   "execution_count": 53,
   "metadata": {},
   "outputs": [
    {
     "name": "stderr",
     "output_type": "stream",
     "text": [
      "C:\\Users\\Gebruiker\\Anaconda3\\lib\\site-packages\\ipykernel_launcher.py:4: SettingWithCopyWarning: \n",
      "A value is trying to be set on a copy of a slice from a DataFrame.\n",
      "Try using .loc[row_indexer,col_indexer] = value instead\n",
      "\n",
      "See the caveats in the documentation: https://pandas.pydata.org/pandas-docs/stable/user_guide/indexing.html#returning-a-view-versus-a-copy\n",
      "  after removing the cwd from sys.path.\n",
      "C:\\Users\\Gebruiker\\Anaconda3\\lib\\site-packages\\ipykernel_launcher.py:5: SettingWithCopyWarning: \n",
      "A value is trying to be set on a copy of a slice from a DataFrame.\n",
      "Try using .loc[row_indexer,col_indexer] = value instead\n",
      "\n",
      "See the caveats in the documentation: https://pandas.pydata.org/pandas-docs/stable/user_guide/indexing.html#returning-a-view-versus-a-copy\n",
      "  \"\"\"\n"
     ]
    }
   ],
   "source": [
    "#datasets with constant values for year\n",
    "df_1_year = df_1\n",
    "df_5_year = df_5\n",
    "df_1_year['year'] = '16--'\n",
    "df_5_year['year'] = '1937'"
   ]
  },
  {
   "cell_type": "code",
   "execution_count": 54,
   "metadata": {},
   "outputs": [
    {
     "name": "stdout",
     "output_type": "stream",
     "text": [
      "      Did                                             Dtitle    Dauthor  \\\n",
      "0  529524  Rechtsgeleerd advis in de zaak van den gewezen...  B. Voorda   \n",
      "\n",
      "   Dyear  Dmonth  Dday                    Doriginal  \n",
      "0   1796     NaN   NaN  113/dpo_113_0003_master.tif  \n"
     ]
    }
   ],
   "source": [
    "print(meta_data2.head(1))"
   ]
  },
  {
   "cell_type": "code",
   "execution_count": 55,
   "metadata": {},
   "outputs": [],
   "source": [
    "meta_data2['year'] = meta_data2['Dyear']\n",
    "meta_data2['identifier'] = meta_data2['Did'].astype(str)\n",
    "meta_data2 = meta_data2[['identifier', 'year']]"
   ]
  },
  {
   "cell_type": "code",
   "execution_count": 56,
   "metadata": {},
   "outputs": [
    {
     "data": {
      "text/html": [
       "<div>\n",
       "<style scoped>\n",
       "    .dataframe tbody tr th:only-of-type {\n",
       "        vertical-align: middle;\n",
       "    }\n",
       "\n",
       "    .dataframe tbody tr th {\n",
       "        vertical-align: top;\n",
       "    }\n",
       "\n",
       "    .dataframe thead th {\n",
       "        text-align: right;\n",
       "    }\n",
       "</style>\n",
       "<table border=\"1\" class=\"dataframe\">\n",
       "  <thead>\n",
       "    <tr style=\"text-align: right;\">\n",
       "      <th></th>\n",
       "      <th>identifier</th>\n",
       "      <th>gt text</th>\n",
       "      <th>ocr text</th>\n",
       "      <th>CER</th>\n",
       "      <th>WER</th>\n",
       "      <th>WER (order independent)</th>\n",
       "      <th>dictionary lookup gt</th>\n",
       "      <th>dictionary lookup ocr</th>\n",
       "      <th>jaccard_coefficient</th>\n",
       "      <th>levenshtein_dist_normalized</th>\n",
       "      <th>source</th>\n",
       "      <th>word count gt</th>\n",
       "      <th>word count ocr</th>\n",
       "      <th>year</th>\n",
       "    </tr>\n",
       "  </thead>\n",
       "  <tbody>\n",
       "    <tr>\n",
       "      <th>0</th>\n",
       "      <td>538813</td>\n",
       "      <td>de Gebeurtenisſen in I787 enz. voorgevallen. I...</td>\n",
       "      <td>de Gebeurtenis/en in 1787 enz, voorgevallen, i...</td>\n",
       "      <td>5.2</td>\n",
       "      <td>21.02</td>\n",
       "      <td>20.17</td>\n",
       "      <td>84.82</td>\n",
       "      <td>80.73</td>\n",
       "      <td>0.58</td>\n",
       "      <td>0.07</td>\n",
       "      <td>books</td>\n",
       "      <td>342</td>\n",
       "      <td>330</td>\n",
       "      <td>1791</td>\n",
       "    </tr>\n",
       "  </tbody>\n",
       "</table>\n",
       "</div>"
      ],
      "text/plain": [
       "  identifier                                            gt text  \\\n",
       "0     538813  de Gebeurtenisſen in I787 enz. voorgevallen. I...   \n",
       "\n",
       "                                            ocr text  CER    WER  \\\n",
       "0  de Gebeurtenis/en in 1787 enz, voorgevallen, i...  5.2  21.02   \n",
       "\n",
       "   WER (order independent)  dictionary lookup gt  dictionary lookup ocr  \\\n",
       "0                    20.17                 84.82                  80.73   \n",
       "\n",
       "   jaccard_coefficient  levenshtein_dist_normalized source  word count gt  \\\n",
       "0                 0.58                         0.07  books            342   \n",
       "\n",
       "   word count ocr  year  \n",
       "0             330  1791  "
      ]
     },
     "execution_count": 56,
     "metadata": {},
     "output_type": "execute_result"
    }
   ],
   "source": [
    "df_2_year = pd.merge(left=df_2, right=meta_data2, on='identifier')\n",
    "df_2_year.head(1)"
   ]
  },
  {
   "cell_type": "code",
   "execution_count": 57,
   "metadata": {},
   "outputs": [
    {
     "name": "stdout",
     "output_type": "stream",
     "text": [
      "             Identifier  Date of publication Date of production Producer  \\\n",
      "0  ddd:011019417:mpeg21  1990-08-16 00:00:00         2012-05-23      CCS   \n",
      "\n",
      "   ABBYY Version                       Title  Page number  Microfilm  \n",
      "0            8.1  Nieuwsblad van het Noorden            1        NaN  \n"
     ]
    }
   ],
   "source": [
    "print(meta_data3.head(1))"
   ]
  },
  {
   "cell_type": "code",
   "execution_count": 58,
   "metadata": {},
   "outputs": [
    {
     "name": "stdout",
     "output_type": "stream",
     "text": [
      "Index(['Identifier', 'Date of publication', 'Date of production', 'Producer',\n",
      "       'ABBYY Version', 'Title', 'Page number', 'Microfilm'],\n",
      "      dtype='object')\n"
     ]
    }
   ],
   "source": [
    "print(meta_data3.columns)"
   ]
  },
  {
   "cell_type": "code",
   "execution_count": null,
   "metadata": {},
   "outputs": [],
   "source": []
  },
  {
   "cell_type": "code",
   "execution_count": null,
   "metadata": {},
   "outputs": [],
   "source": []
  },
  {
   "cell_type": "code",
   "execution_count": 59,
   "metadata": {},
   "outputs": [
    {
     "data": {
      "text/html": [
       "<div>\n",
       "<style scoped>\n",
       "    .dataframe tbody tr th:only-of-type {\n",
       "        vertical-align: middle;\n",
       "    }\n",
       "\n",
       "    .dataframe tbody tr th {\n",
       "        vertical-align: top;\n",
       "    }\n",
       "\n",
       "    .dataframe thead th {\n",
       "        text-align: right;\n",
       "    }\n",
       "</style>\n",
       "<table border=\"1\" class=\"dataframe\">\n",
       "  <thead>\n",
       "    <tr style=\"text-align: right;\">\n",
       "      <th></th>\n",
       "      <th>identifier</th>\n",
       "      <th>gt text</th>\n",
       "      <th>ocr text</th>\n",
       "      <th>CER</th>\n",
       "      <th>WER</th>\n",
       "      <th>WER (order independent)</th>\n",
       "      <th>dictionary lookup gt</th>\n",
       "      <th>dictionary lookup ocr</th>\n",
       "      <th>jaccard_coefficient</th>\n",
       "      <th>levenshtein_dist_normalized</th>\n",
       "      <th>source</th>\n",
       "      <th>word count gt</th>\n",
       "      <th>word count ocr</th>\n",
       "    </tr>\n",
       "  </thead>\n",
       "  <tbody>\n",
       "    <tr>\n",
       "      <th>36375</th>\n",
       "      <td>DDD_010197037_001.jp2_ocr</td>\n",
       "      <td>No. 9922. Tweede Blad. Vrijdag 29 Juli 1910. R...</td>\n",
       "      <td>JSo. 9822 xTweede Blad. Vrijdag 29 Juli 1910. ...</td>\n",
       "      <td>12.93</td>\n",
       "      <td>29.10</td>\n",
       "      <td>23.41</td>\n",
       "      <td>89.44</td>\n",
       "      <td>75.36</td>\n",
       "      <td>0.481129</td>\n",
       "      <td>0.130480</td>\n",
       "      <td>newspapers</td>\n",
       "      <td>4337</td>\n",
       "      <td>4335</td>\n",
       "    </tr>\n",
       "    <tr>\n",
       "      <th>36376</th>\n",
       "      <td>DDD_011219339_001.jp2_ocr</td>\n",
       "      <td>De Surinamer Redactie J. WILLEBRANDS Dagblad v...</td>\n",
       "      <td>De Surinamer •v* WILLEBRANDS:i^ Dagblad voor S...</td>\n",
       "      <td>27.15</td>\n",
       "      <td>39.65</td>\n",
       "      <td>33.92</td>\n",
       "      <td>90.90</td>\n",
       "      <td>66.95</td>\n",
       "      <td>0.355100</td>\n",
       "      <td>0.264095</td>\n",
       "      <td>newspapers</td>\n",
       "      <td>2487</td>\n",
       "      <td>2467</td>\n",
       "    </tr>\n",
       "    <tr>\n",
       "      <th>36377</th>\n",
       "      <td>DDD_011179281_001.jp2_ocr</td>\n",
       "      <td>DE GRONDWET. Mrs. L. Mulder, Uitgeefster. JAAR...</td>\n",
       "      <td>DE GRONDWET. Mrs. 3L.. Mulder, TJitgêelster. r...</td>\n",
       "      <td>4.26</td>\n",
       "      <td>13.85</td>\n",
       "      <td>12.32</td>\n",
       "      <td>86.93</td>\n",
       "      <td>78.46</td>\n",
       "      <td>0.677461</td>\n",
       "      <td>0.044412</td>\n",
       "      <td>newspapers</td>\n",
       "      <td>3725</td>\n",
       "      <td>3755</td>\n",
       "    </tr>\n",
       "    <tr>\n",
       "      <th>36378</th>\n",
       "      <td>DDD_010948945_001.jp2_ocr</td>\n",
       "      <td>Het Vrije Volk Maandag 25 augustus 1986 42e ja...</td>\n",
       "      <td>Het Vrije Volk Maandag 25 augustus 1986 42e ja...</td>\n",
       "      <td>8.00</td>\n",
       "      <td>10.05</td>\n",
       "      <td>7.62</td>\n",
       "      <td>90.13</td>\n",
       "      <td>85.08</td>\n",
       "      <td>0.690794</td>\n",
       "      <td>0.079328</td>\n",
       "      <td>newspapers</td>\n",
       "      <td>2104</td>\n",
       "      <td>2169</td>\n",
       "    </tr>\n",
       "    <tr>\n",
       "      <th>36379</th>\n",
       "      <td>MMGARO01_000177181_002_master.jp2_ocr</td>\n",
       "      <td>De troepen vertrokken 8 en 9 Sept, uit Tientsi...</td>\n",
       "      <td>De tioepen vertrokken 8 en 9 Sept. uit Tientsi...</td>\n",
       "      <td>0.83</td>\n",
       "      <td>2.94</td>\n",
       "      <td>2.69</td>\n",
       "      <td>90.05</td>\n",
       "      <td>87.96</td>\n",
       "      <td>0.900431</td>\n",
       "      <td>0.008424</td>\n",
       "      <td>newspapers</td>\n",
       "      <td>3576</td>\n",
       "      <td>3595</td>\n",
       "    </tr>\n",
       "  </tbody>\n",
       "</table>\n",
       "</div>"
      ],
      "text/plain": [
       "                                  identifier  \\\n",
       "36375              DDD_010197037_001.jp2_ocr   \n",
       "36376              DDD_011219339_001.jp2_ocr   \n",
       "36377              DDD_011179281_001.jp2_ocr   \n",
       "36378              DDD_010948945_001.jp2_ocr   \n",
       "36379  MMGARO01_000177181_002_master.jp2_ocr   \n",
       "\n",
       "                                                 gt text  \\\n",
       "36375  No. 9922. Tweede Blad. Vrijdag 29 Juli 1910. R...   \n",
       "36376  De Surinamer Redactie J. WILLEBRANDS Dagblad v...   \n",
       "36377  DE GRONDWET. Mrs. L. Mulder, Uitgeefster. JAAR...   \n",
       "36378  Het Vrije Volk Maandag 25 augustus 1986 42e ja...   \n",
       "36379  De troepen vertrokken 8 en 9 Sept, uit Tientsi...   \n",
       "\n",
       "                                                ocr text    CER    WER  \\\n",
       "36375  JSo. 9822 xTweede Blad. Vrijdag 29 Juli 1910. ...  12.93  29.10   \n",
       "36376  De Surinamer •v* WILLEBRANDS:i^ Dagblad voor S...  27.15  39.65   \n",
       "36377  DE GRONDWET. Mrs. 3L.. Mulder, TJitgêelster. r...   4.26  13.85   \n",
       "36378  Het Vrije Volk Maandag 25 augustus 1986 42e ja...   8.00  10.05   \n",
       "36379  De tioepen vertrokken 8 en 9 Sept. uit Tientsi...   0.83   2.94   \n",
       "\n",
       "       WER (order independent)  dictionary lookup gt  dictionary lookup ocr  \\\n",
       "36375                    23.41                 89.44                  75.36   \n",
       "36376                    33.92                 90.90                  66.95   \n",
       "36377                    12.32                 86.93                  78.46   \n",
       "36378                     7.62                 90.13                  85.08   \n",
       "36379                     2.69                 90.05                  87.96   \n",
       "\n",
       "       jaccard_coefficient  levenshtein_dist_normalized      source  \\\n",
       "36375             0.481129                     0.130480  newspapers   \n",
       "36376             0.355100                     0.264095  newspapers   \n",
       "36377             0.677461                     0.044412  newspapers   \n",
       "36378             0.690794                     0.079328  newspapers   \n",
       "36379             0.900431                     0.008424  newspapers   \n",
       "\n",
       "       word count gt  word count ocr  \n",
       "36375           4337            4335  \n",
       "36376           2487            2467  \n",
       "36377           3725            3755  \n",
       "36378           2104            2169  \n",
       "36379           3576            3595  "
      ]
     },
     "execution_count": 59,
     "metadata": {},
     "output_type": "execute_result"
    }
   ],
   "source": [
    "df_3.head()"
   ]
  },
  {
   "cell_type": "code",
   "execution_count": 60,
   "metadata": {},
   "outputs": [],
   "source": [
    "# df_3: DDD_010197037_001.jp2_ocr\n",
    "# df_3: MMGARO01_000177181_002_master.jp2_ocr\n",
    "# metadata3: ddd:010860580:mpeg21\n",
    "# metadata3: MMKB08:000192440:mpeg21\n"
   ]
  },
  {
   "cell_type": "code",
   "execution_count": 61,
   "metadata": {},
   "outputs": [],
   "source": [
    "df_3= df_3[~df_3.identifier.str.contains(\"_reocr\")].reset_index(drop = True)"
   ]
  },
  {
   "cell_type": "code",
   "execution_count": 62,
   "metadata": {},
   "outputs": [
    {
     "data": {
      "text/plain": [
       "2000"
      ]
     },
     "execution_count": 62,
     "metadata": {},
     "output_type": "execute_result"
    }
   ],
   "source": [
    "len(df_3)"
   ]
  },
  {
   "cell_type": "code",
   "execution_count": 63,
   "metadata": {},
   "outputs": [],
   "source": [
    "def shorten(identifier):\n",
    "    uniform = identifier.replace('_', ':')\n",
    "    splitted = uniform.split(':')\n",
    "    new_id = (':'.join(splitted[:2])).lower()\n",
    "    return new_id \n",
    "\n",
    "df_3['short id'] = df_3['identifier'].apply(lambda x: shorten(x))\n",
    "meta_data3['short id'] = meta_data3['Identifier'].apply(lambda x: shorten(x))\n",
    "\n",
    "\n",
    "# df_3: DDD_010197037_001.jp2_ocr\n",
    "# df_3: MMGARO01_000177181_002_master.jp2_ocr\n",
    "# metadata3: ddd:010860580:mpeg21\n",
    "# metadata3: MMKB08:000192440:mpeg21"
   ]
  },
  {
   "cell_type": "code",
   "execution_count": 64,
   "metadata": {},
   "outputs": [
    {
     "data": {
      "text/html": [
       "<div>\n",
       "<style scoped>\n",
       "    .dataframe tbody tr th:only-of-type {\n",
       "        vertical-align: middle;\n",
       "    }\n",
       "\n",
       "    .dataframe tbody tr th {\n",
       "        vertical-align: top;\n",
       "    }\n",
       "\n",
       "    .dataframe thead th {\n",
       "        text-align: right;\n",
       "    }\n",
       "</style>\n",
       "<table border=\"1\" class=\"dataframe\">\n",
       "  <thead>\n",
       "    <tr style=\"text-align: right;\">\n",
       "      <th></th>\n",
       "      <th>Identifier</th>\n",
       "      <th>Date of publication</th>\n",
       "      <th>Date of production</th>\n",
       "      <th>Producer</th>\n",
       "      <th>ABBYY Version</th>\n",
       "      <th>Title</th>\n",
       "      <th>Page number</th>\n",
       "      <th>Microfilm</th>\n",
       "      <th>short id</th>\n",
       "    </tr>\n",
       "  </thead>\n",
       "  <tbody>\n",
       "    <tr>\n",
       "      <th>0</th>\n",
       "      <td>ddd:011019417:mpeg21</td>\n",
       "      <td>1990-08-16 00:00:00</td>\n",
       "      <td>2012-05-23</td>\n",
       "      <td>CCS</td>\n",
       "      <td>8.1</td>\n",
       "      <td>Nieuwsblad van het Noorden</td>\n",
       "      <td>1</td>\n",
       "      <td>NaN</td>\n",
       "      <td>ddd:011019417</td>\n",
       "    </tr>\n",
       "    <tr>\n",
       "      <th>1</th>\n",
       "      <td>ddd:010535134:mpeg21</td>\n",
       "      <td>1932</td>\n",
       "      <td>NaT</td>\n",
       "      <td>CCS</td>\n",
       "      <td>8.1</td>\n",
       "      <td>NaN</td>\n",
       "      <td>2</td>\n",
       "      <td>NaN</td>\n",
       "      <td>ddd:010535134</td>\n",
       "    </tr>\n",
       "    <tr>\n",
       "      <th>2</th>\n",
       "      <td>ddd:010569784:mpeg21</td>\n",
       "      <td>1985-12-30 00:00:00</td>\n",
       "      <td>2010-03-16</td>\n",
       "      <td>CCS</td>\n",
       "      <td>8.1</td>\n",
       "      <td>Nederlands dagblad : gereformeerd gezinsblad /...</td>\n",
       "      <td>1</td>\n",
       "      <td>NaN</td>\n",
       "      <td>ddd:010569784</td>\n",
       "    </tr>\n",
       "    <tr>\n",
       "      <th>3</th>\n",
       "      <td>ddd:010674667:mpeg21</td>\n",
       "      <td>1930</td>\n",
       "      <td>NaT</td>\n",
       "      <td>CCS</td>\n",
       "      <td>8.1</td>\n",
       "      <td>NaN</td>\n",
       "      <td>1</td>\n",
       "      <td>NaN</td>\n",
       "      <td>ddd:010674667</td>\n",
       "    </tr>\n",
       "    <tr>\n",
       "      <th>4</th>\n",
       "      <td>ddd:010371904:mpeg21</td>\n",
       "      <td>1963-01-17 00:00:00</td>\n",
       "      <td>2010-04-09</td>\n",
       "      <td>CCS</td>\n",
       "      <td>8.1</td>\n",
       "      <td>De waarheid</td>\n",
       "      <td>2</td>\n",
       "      <td>NaN</td>\n",
       "      <td>ddd:010371904</td>\n",
       "    </tr>\n",
       "  </tbody>\n",
       "</table>\n",
       "</div>"
      ],
      "text/plain": [
       "             Identifier  Date of publication Date of production Producer  \\\n",
       "0  ddd:011019417:mpeg21  1990-08-16 00:00:00         2012-05-23      CCS   \n",
       "1  ddd:010535134:mpeg21                 1932                NaT      CCS   \n",
       "2  ddd:010569784:mpeg21  1985-12-30 00:00:00         2010-03-16      CCS   \n",
       "3  ddd:010674667:mpeg21                 1930                NaT      CCS   \n",
       "4  ddd:010371904:mpeg21  1963-01-17 00:00:00         2010-04-09      CCS   \n",
       "\n",
       "   ABBYY Version                                              Title  \\\n",
       "0            8.1                         Nieuwsblad van het Noorden   \n",
       "1            8.1                                                NaN   \n",
       "2            8.1  Nederlands dagblad : gereformeerd gezinsblad /...   \n",
       "3            8.1                                                NaN   \n",
       "4            8.1                                        De waarheid   \n",
       "\n",
       "   Page number  Microfilm       short id  \n",
       "0            1        NaN  ddd:011019417  \n",
       "1            2        NaN  ddd:010535134  \n",
       "2            1        NaN  ddd:010569784  \n",
       "3            1        NaN  ddd:010674667  \n",
       "4            2        NaN  ddd:010371904  "
      ]
     },
     "execution_count": 64,
     "metadata": {},
     "output_type": "execute_result"
    }
   ],
   "source": [
    "meta_data3.head()"
   ]
  },
  {
   "cell_type": "code",
   "execution_count": 65,
   "metadata": {},
   "outputs": [
    {
     "data": {
      "text/html": [
       "<div>\n",
       "<style scoped>\n",
       "    .dataframe tbody tr th:only-of-type {\n",
       "        vertical-align: middle;\n",
       "    }\n",
       "\n",
       "    .dataframe tbody tr th {\n",
       "        vertical-align: top;\n",
       "    }\n",
       "\n",
       "    .dataframe thead th {\n",
       "        text-align: right;\n",
       "    }\n",
       "</style>\n",
       "<table border=\"1\" class=\"dataframe\">\n",
       "  <thead>\n",
       "    <tr style=\"text-align: right;\">\n",
       "      <th></th>\n",
       "      <th>identifier</th>\n",
       "      <th>gt text</th>\n",
       "      <th>ocr text</th>\n",
       "      <th>CER</th>\n",
       "      <th>WER</th>\n",
       "      <th>WER (order independent)</th>\n",
       "      <th>dictionary lookup gt</th>\n",
       "      <th>dictionary lookup ocr</th>\n",
       "      <th>jaccard_coefficient</th>\n",
       "      <th>levenshtein_dist_normalized</th>\n",
       "      <th>source</th>\n",
       "      <th>word count gt</th>\n",
       "      <th>word count ocr</th>\n",
       "      <th>short id</th>\n",
       "    </tr>\n",
       "  </thead>\n",
       "  <tbody>\n",
       "    <tr>\n",
       "      <th>0</th>\n",
       "      <td>DDD_010197037_001.jp2_ocr</td>\n",
       "      <td>No. 9922. Tweede Blad. Vrijdag 29 Juli 1910. R...</td>\n",
       "      <td>JSo. 9822 xTweede Blad. Vrijdag 29 Juli 1910. ...</td>\n",
       "      <td>12.93</td>\n",
       "      <td>29.10</td>\n",
       "      <td>23.41</td>\n",
       "      <td>89.44</td>\n",
       "      <td>75.36</td>\n",
       "      <td>0.481129</td>\n",
       "      <td>0.130480</td>\n",
       "      <td>newspapers</td>\n",
       "      <td>4337</td>\n",
       "      <td>4335</td>\n",
       "      <td>ddd:010197037</td>\n",
       "    </tr>\n",
       "    <tr>\n",
       "      <th>1</th>\n",
       "      <td>DDD_011219339_001.jp2_ocr</td>\n",
       "      <td>De Surinamer Redactie J. WILLEBRANDS Dagblad v...</td>\n",
       "      <td>De Surinamer •v* WILLEBRANDS:i^ Dagblad voor S...</td>\n",
       "      <td>27.15</td>\n",
       "      <td>39.65</td>\n",
       "      <td>33.92</td>\n",
       "      <td>90.90</td>\n",
       "      <td>66.95</td>\n",
       "      <td>0.355100</td>\n",
       "      <td>0.264095</td>\n",
       "      <td>newspapers</td>\n",
       "      <td>2487</td>\n",
       "      <td>2467</td>\n",
       "      <td>ddd:011219339</td>\n",
       "    </tr>\n",
       "    <tr>\n",
       "      <th>2</th>\n",
       "      <td>DDD_011179281_001.jp2_ocr</td>\n",
       "      <td>DE GRONDWET. Mrs. L. Mulder, Uitgeefster. JAAR...</td>\n",
       "      <td>DE GRONDWET. Mrs. 3L.. Mulder, TJitgêelster. r...</td>\n",
       "      <td>4.26</td>\n",
       "      <td>13.85</td>\n",
       "      <td>12.32</td>\n",
       "      <td>86.93</td>\n",
       "      <td>78.46</td>\n",
       "      <td>0.677461</td>\n",
       "      <td>0.044412</td>\n",
       "      <td>newspapers</td>\n",
       "      <td>3725</td>\n",
       "      <td>3755</td>\n",
       "      <td>ddd:011179281</td>\n",
       "    </tr>\n",
       "    <tr>\n",
       "      <th>3</th>\n",
       "      <td>DDD_010948945_001.jp2_ocr</td>\n",
       "      <td>Het Vrije Volk Maandag 25 augustus 1986 42e ja...</td>\n",
       "      <td>Het Vrije Volk Maandag 25 augustus 1986 42e ja...</td>\n",
       "      <td>8.00</td>\n",
       "      <td>10.05</td>\n",
       "      <td>7.62</td>\n",
       "      <td>90.13</td>\n",
       "      <td>85.08</td>\n",
       "      <td>0.690794</td>\n",
       "      <td>0.079328</td>\n",
       "      <td>newspapers</td>\n",
       "      <td>2104</td>\n",
       "      <td>2169</td>\n",
       "      <td>ddd:010948945</td>\n",
       "    </tr>\n",
       "    <tr>\n",
       "      <th>4</th>\n",
       "      <td>MMGARO01_000177181_002_master.jp2_ocr</td>\n",
       "      <td>De troepen vertrokken 8 en 9 Sept, uit Tientsi...</td>\n",
       "      <td>De tioepen vertrokken 8 en 9 Sept. uit Tientsi...</td>\n",
       "      <td>0.83</td>\n",
       "      <td>2.94</td>\n",
       "      <td>2.69</td>\n",
       "      <td>90.05</td>\n",
       "      <td>87.96</td>\n",
       "      <td>0.900431</td>\n",
       "      <td>0.008424</td>\n",
       "      <td>newspapers</td>\n",
       "      <td>3576</td>\n",
       "      <td>3595</td>\n",
       "      <td>mmgaro01:000177181</td>\n",
       "    </tr>\n",
       "  </tbody>\n",
       "</table>\n",
       "</div>"
      ],
      "text/plain": [
       "                              identifier  \\\n",
       "0              DDD_010197037_001.jp2_ocr   \n",
       "1              DDD_011219339_001.jp2_ocr   \n",
       "2              DDD_011179281_001.jp2_ocr   \n",
       "3              DDD_010948945_001.jp2_ocr   \n",
       "4  MMGARO01_000177181_002_master.jp2_ocr   \n",
       "\n",
       "                                             gt text  \\\n",
       "0  No. 9922. Tweede Blad. Vrijdag 29 Juli 1910. R...   \n",
       "1  De Surinamer Redactie J. WILLEBRANDS Dagblad v...   \n",
       "2  DE GRONDWET. Mrs. L. Mulder, Uitgeefster. JAAR...   \n",
       "3  Het Vrije Volk Maandag 25 augustus 1986 42e ja...   \n",
       "4  De troepen vertrokken 8 en 9 Sept, uit Tientsi...   \n",
       "\n",
       "                                            ocr text    CER    WER  \\\n",
       "0  JSo. 9822 xTweede Blad. Vrijdag 29 Juli 1910. ...  12.93  29.10   \n",
       "1  De Surinamer •v* WILLEBRANDS:i^ Dagblad voor S...  27.15  39.65   \n",
       "2  DE GRONDWET. Mrs. 3L.. Mulder, TJitgêelster. r...   4.26  13.85   \n",
       "3  Het Vrije Volk Maandag 25 augustus 1986 42e ja...   8.00  10.05   \n",
       "4  De tioepen vertrokken 8 en 9 Sept. uit Tientsi...   0.83   2.94   \n",
       "\n",
       "   WER (order independent)  dictionary lookup gt  dictionary lookup ocr  \\\n",
       "0                    23.41                 89.44                  75.36   \n",
       "1                    33.92                 90.90                  66.95   \n",
       "2                    12.32                 86.93                  78.46   \n",
       "3                     7.62                 90.13                  85.08   \n",
       "4                     2.69                 90.05                  87.96   \n",
       "\n",
       "   jaccard_coefficient  levenshtein_dist_normalized      source  \\\n",
       "0             0.481129                     0.130480  newspapers   \n",
       "1             0.355100                     0.264095  newspapers   \n",
       "2             0.677461                     0.044412  newspapers   \n",
       "3             0.690794                     0.079328  newspapers   \n",
       "4             0.900431                     0.008424  newspapers   \n",
       "\n",
       "   word count gt  word count ocr            short id  \n",
       "0           4337            4335       ddd:010197037  \n",
       "1           2487            2467       ddd:011219339  \n",
       "2           3725            3755       ddd:011179281  \n",
       "3           2104            2169       ddd:010948945  \n",
       "4           3576            3595  mmgaro01:000177181  "
      ]
     },
     "execution_count": 65,
     "metadata": {},
     "output_type": "execute_result"
    }
   ],
   "source": [
    "df_3.head()"
   ]
  },
  {
   "cell_type": "code",
   "execution_count": 66,
   "metadata": {},
   "outputs": [],
   "source": [
    "meta_data3['year'] = meta_data3['Date of publication']\n",
    "meta_data3['identifier'] = meta_data3['Identifier']\n",
    "meta_data3 = meta_data3[['short id', 'year']]"
   ]
  },
  {
   "cell_type": "code",
   "execution_count": 67,
   "metadata": {},
   "outputs": [
    {
     "data": {
      "text/html": [
       "<div>\n",
       "<style scoped>\n",
       "    .dataframe tbody tr th:only-of-type {\n",
       "        vertical-align: middle;\n",
       "    }\n",
       "\n",
       "    .dataframe tbody tr th {\n",
       "        vertical-align: top;\n",
       "    }\n",
       "\n",
       "    .dataframe thead th {\n",
       "        text-align: right;\n",
       "    }\n",
       "</style>\n",
       "<table border=\"1\" class=\"dataframe\">\n",
       "  <thead>\n",
       "    <tr style=\"text-align: right;\">\n",
       "      <th></th>\n",
       "      <th>identifier</th>\n",
       "      <th>gt text</th>\n",
       "      <th>ocr text</th>\n",
       "      <th>CER</th>\n",
       "      <th>WER</th>\n",
       "      <th>WER (order independent)</th>\n",
       "      <th>dictionary lookup gt</th>\n",
       "      <th>dictionary lookup ocr</th>\n",
       "      <th>jaccard_coefficient</th>\n",
       "      <th>levenshtein_dist_normalized</th>\n",
       "      <th>source</th>\n",
       "      <th>word count gt</th>\n",
       "      <th>word count ocr</th>\n",
       "      <th>year</th>\n",
       "    </tr>\n",
       "  </thead>\n",
       "  <tbody>\n",
       "    <tr>\n",
       "      <th>0</th>\n",
       "      <td>DDD_010197037_001.jp2_ocr</td>\n",
       "      <td>No. 9922. Tweede Blad. Vrijdag 29 Juli 1910. R...</td>\n",
       "      <td>JSo. 9822 xTweede Blad. Vrijdag 29 Juli 1910. ...</td>\n",
       "      <td>12.93</td>\n",
       "      <td>29.1</td>\n",
       "      <td>23.41</td>\n",
       "      <td>89.44</td>\n",
       "      <td>75.36</td>\n",
       "      <td>0.481129</td>\n",
       "      <td>0.13048</td>\n",
       "      <td>newspapers</td>\n",
       "      <td>4337</td>\n",
       "      <td>4335</td>\n",
       "      <td>1910</td>\n",
       "    </tr>\n",
       "  </tbody>\n",
       "</table>\n",
       "</div>"
      ],
      "text/plain": [
       "                  identifier  \\\n",
       "0  DDD_010197037_001.jp2_ocr   \n",
       "\n",
       "                                             gt text  \\\n",
       "0  No. 9922. Tweede Blad. Vrijdag 29 Juli 1910. R...   \n",
       "\n",
       "                                            ocr text    CER   WER  \\\n",
       "0  JSo. 9822 xTweede Blad. Vrijdag 29 Juli 1910. ...  12.93  29.1   \n",
       "\n",
       "   WER (order independent)  dictionary lookup gt  dictionary lookup ocr  \\\n",
       "0                    23.41                 89.44                  75.36   \n",
       "\n",
       "   jaccard_coefficient  levenshtein_dist_normalized      source  \\\n",
       "0             0.481129                      0.13048  newspapers   \n",
       "\n",
       "   word count gt  word count ocr  year  \n",
       "0           4337            4335  1910  "
      ]
     },
     "execution_count": 67,
     "metadata": {},
     "output_type": "execute_result"
    }
   ],
   "source": [
    "df_3_year = pd.merge(left=df_3, right=meta_data3, on='short id')\n",
    "df_3_year = df_3_year.drop(\"short id\", axis=1)\n",
    "df_3_year.head(1)\n"
   ]
  },
  {
   "cell_type": "code",
   "execution_count": null,
   "metadata": {},
   "outputs": [],
   "source": []
  },
  {
   "cell_type": "code",
   "execution_count": 68,
   "metadata": {},
   "outputs": [
    {
     "data": {
      "text/plain": [
       "2000"
      ]
     },
     "execution_count": 68,
     "metadata": {},
     "output_type": "execute_result"
    }
   ],
   "source": [
    "len(df_3_year)"
   ]
  },
  {
   "cell_type": "code",
   "execution_count": 69,
   "metadata": {},
   "outputs": [
    {
     "data": {
      "text/html": [
       "<div>\n",
       "<style scoped>\n",
       "    .dataframe tbody tr th:only-of-type {\n",
       "        vertical-align: middle;\n",
       "    }\n",
       "\n",
       "    .dataframe tbody tr th {\n",
       "        vertical-align: top;\n",
       "    }\n",
       "\n",
       "    .dataframe thead th {\n",
       "        text-align: right;\n",
       "    }\n",
       "</style>\n",
       "<table border=\"1\" class=\"dataframe\">\n",
       "  <thead>\n",
       "    <tr style=\"text-align: right;\">\n",
       "      <th></th>\n",
       "      <th>identifier</th>\n",
       "      <th>gt text</th>\n",
       "      <th>ocr text</th>\n",
       "      <th>CER</th>\n",
       "      <th>WER</th>\n",
       "      <th>WER (order independent)</th>\n",
       "      <th>dictionary lookup gt</th>\n",
       "      <th>dictionary lookup ocr</th>\n",
       "      <th>jaccard_coefficient</th>\n",
       "      <th>levenshtein_dist_normalized</th>\n",
       "      <th>source</th>\n",
       "      <th>word count gt</th>\n",
       "      <th>word count ocr</th>\n",
       "    </tr>\n",
       "  </thead>\n",
       "  <tbody>\n",
       "    <tr>\n",
       "      <th>40375</th>\n",
       "      <td>_vad003182501</td>\n",
       "      <td>Boekbeschouwing. De gemoedsgesteldheid van Dav...</td>\n",
       "      <td>SEM1N 9 ( SIS) s.. B OEKBESCHOUWI ' , vOOR 1 8...</td>\n",
       "      <td>84.53</td>\n",
       "      <td>79.03</td>\n",
       "      <td>34.03</td>\n",
       "      <td>75.44</td>\n",
       "      <td>35.5</td>\n",
       "      <td>0.281618</td>\n",
       "      <td>NaN</td>\n",
       "      <td>dbnl</td>\n",
       "      <td>478466</td>\n",
       "      <td>564183</td>\n",
       "    </tr>\n",
       "  </tbody>\n",
       "</table>\n",
       "</div>"
      ],
      "text/plain": [
       "          identifier                                            gt text  \\\n",
       "40375  _vad003182501  Boekbeschouwing. De gemoedsgesteldheid van Dav...   \n",
       "\n",
       "                                                ocr text    CER    WER  \\\n",
       "40375  SEM1N 9 ( SIS) s.. B OEKBESCHOUWI ' , vOOR 1 8...  84.53  79.03   \n",
       "\n",
       "       WER (order independent)  dictionary lookup gt  dictionary lookup ocr  \\\n",
       "40375                    34.03                 75.44                   35.5   \n",
       "\n",
       "       jaccard_coefficient  levenshtein_dist_normalized source  word count gt  \\\n",
       "40375             0.281618                          NaN   dbnl         478466   \n",
       "\n",
       "       word count ocr  \n",
       "40375          564183  "
      ]
     },
     "execution_count": 69,
     "metadata": {},
     "output_type": "execute_result"
    }
   ],
   "source": [
    "df_4.head(1)"
   ]
  },
  {
   "cell_type": "code",
   "execution_count": 70,
   "metadata": {},
   "outputs": [
    {
     "data": {
      "text/html": [
       "<div>\n",
       "<style scoped>\n",
       "    .dataframe tbody tr th:only-of-type {\n",
       "        vertical-align: middle;\n",
       "    }\n",
       "\n",
       "    .dataframe tbody tr th {\n",
       "        vertical-align: top;\n",
       "    }\n",
       "\n",
       "    .dataframe thead th {\n",
       "        text-align: right;\n",
       "    }\n",
       "</style>\n",
       "<table border=\"1\" class=\"dataframe\">\n",
       "  <thead>\n",
       "    <tr style=\"text-align: right;\">\n",
       "      <th></th>\n",
       "      <th>ti_id</th>\n",
       "      <th>titel</th>\n",
       "      <th>jaar</th>\n",
       "      <th>druk</th>\n",
       "    </tr>\n",
       "  </thead>\n",
       "  <tbody>\n",
       "    <tr>\n",
       "      <th>0</th>\n",
       "      <td>_vad003177601</td>\n",
       "      <td>Vaderlandsche letteroefeningen. Jaargang 1776</td>\n",
       "      <td>1776</td>\n",
       "      <td>1ste druk</td>\n",
       "    </tr>\n",
       "  </tbody>\n",
       "</table>\n",
       "</div>"
      ],
      "text/plain": [
       "           ti_id                                          titel  jaar  \\\n",
       "0  _vad003177601  Vaderlandsche letteroefeningen. Jaargang 1776  1776   \n",
       "\n",
       "        druk  \n",
       "0  1ste druk  "
      ]
     },
     "execution_count": 70,
     "metadata": {},
     "output_type": "execute_result"
    }
   ],
   "source": [
    "meta_data4.head(1)"
   ]
  },
  {
   "cell_type": "code",
   "execution_count": 71,
   "metadata": {},
   "outputs": [],
   "source": [
    "meta_data4['year'] = meta_data4['jaar']\n",
    "meta_data4['identifier'] = meta_data4['ti_id'].astype(str)\n",
    "meta_data4 = meta_data4[['identifier', 'year']]"
   ]
  },
  {
   "cell_type": "code",
   "execution_count": 72,
   "metadata": {},
   "outputs": [
    {
     "data": {
      "text/html": [
       "<div>\n",
       "<style scoped>\n",
       "    .dataframe tbody tr th:only-of-type {\n",
       "        vertical-align: middle;\n",
       "    }\n",
       "\n",
       "    .dataframe tbody tr th {\n",
       "        vertical-align: top;\n",
       "    }\n",
       "\n",
       "    .dataframe thead th {\n",
       "        text-align: right;\n",
       "    }\n",
       "</style>\n",
       "<table border=\"1\" class=\"dataframe\">\n",
       "  <thead>\n",
       "    <tr style=\"text-align: right;\">\n",
       "      <th></th>\n",
       "      <th>identifier</th>\n",
       "      <th>gt text</th>\n",
       "      <th>ocr text</th>\n",
       "      <th>CER</th>\n",
       "      <th>WER</th>\n",
       "      <th>WER (order independent)</th>\n",
       "      <th>dictionary lookup gt</th>\n",
       "      <th>dictionary lookup ocr</th>\n",
       "      <th>jaccard_coefficient</th>\n",
       "      <th>levenshtein_dist_normalized</th>\n",
       "      <th>source</th>\n",
       "      <th>word count gt</th>\n",
       "      <th>word count ocr</th>\n",
       "      <th>year</th>\n",
       "    </tr>\n",
       "  </thead>\n",
       "  <tbody>\n",
       "    <tr>\n",
       "      <th>0</th>\n",
       "      <td>_vad003182501</td>\n",
       "      <td>Boekbeschouwing. De gemoedsgesteldheid van Dav...</td>\n",
       "      <td>SEM1N 9 ( SIS) s.. B OEKBESCHOUWI ' , vOOR 1 8...</td>\n",
       "      <td>84.53</td>\n",
       "      <td>79.03</td>\n",
       "      <td>34.03</td>\n",
       "      <td>75.44</td>\n",
       "      <td>35.5</td>\n",
       "      <td>0.281618</td>\n",
       "      <td>NaN</td>\n",
       "      <td>dbnl</td>\n",
       "      <td>478466</td>\n",
       "      <td>564183</td>\n",
       "      <td>1825</td>\n",
       "    </tr>\n",
       "  </tbody>\n",
       "</table>\n",
       "</div>"
      ],
      "text/plain": [
       "      identifier                                            gt text  \\\n",
       "0  _vad003182501  Boekbeschouwing. De gemoedsgesteldheid van Dav...   \n",
       "\n",
       "                                            ocr text    CER    WER  \\\n",
       "0  SEM1N 9 ( SIS) s.. B OEKBESCHOUWI ' , vOOR 1 8...  84.53  79.03   \n",
       "\n",
       "   WER (order independent)  dictionary lookup gt  dictionary lookup ocr  \\\n",
       "0                    34.03                 75.44                   35.5   \n",
       "\n",
       "   jaccard_coefficient  levenshtein_dist_normalized source  word count gt  \\\n",
       "0             0.281618                          NaN   dbnl         478466   \n",
       "\n",
       "   word count ocr  year  \n",
       "0          564183  1825  "
      ]
     },
     "execution_count": 72,
     "metadata": {},
     "output_type": "execute_result"
    }
   ],
   "source": [
    "df_4_year = pd.merge(left=df_4, right=meta_data4, on='identifier')\n",
    "df_4_year.head(1)"
   ]
  },
  {
   "cell_type": "code",
   "execution_count": null,
   "metadata": {},
   "outputs": [],
   "source": []
  },
  {
   "cell_type": "code",
   "execution_count": 73,
   "metadata": {},
   "outputs": [
    {
     "data": {
      "text/html": [
       "<div>\n",
       "<style scoped>\n",
       "    .dataframe tbody tr th:only-of-type {\n",
       "        vertical-align: middle;\n",
       "    }\n",
       "\n",
       "    .dataframe tbody tr th {\n",
       "        vertical-align: top;\n",
       "    }\n",
       "\n",
       "    .dataframe thead th {\n",
       "        text-align: right;\n",
       "    }\n",
       "</style>\n",
       "<table border=\"1\" class=\"dataframe\">\n",
       "  <thead>\n",
       "    <tr style=\"text-align: right;\">\n",
       "      <th></th>\n",
       "      <th>identifier</th>\n",
       "      <th>gt text</th>\n",
       "      <th>ocr text</th>\n",
       "      <th>CER</th>\n",
       "      <th>WER</th>\n",
       "      <th>WER (order independent)</th>\n",
       "      <th>dictionary lookup gt</th>\n",
       "      <th>dictionary lookup ocr</th>\n",
       "      <th>jaccard_coefficient</th>\n",
       "      <th>levenshtein_dist_normalized</th>\n",
       "      <th>source</th>\n",
       "      <th>word count gt</th>\n",
       "      <th>word count ocr</th>\n",
       "      <th>year</th>\n",
       "    </tr>\n",
       "  </thead>\n",
       "  <tbody>\n",
       "    <tr>\n",
       "      <th>0</th>\n",
       "      <td>ddd:010728187:mpeg21:a0005</td>\n",
       "      <td>NEDERLANDEN. Valencijn, den 23 July. Sedert de...</td>\n",
       "      <td>NEDERLANDEN. Vakncijn, den j -&gt; July. Scdeit d...</td>\n",
       "      <td>34.66</td>\n",
       "      <td>49.34</td>\n",
       "      <td>46.1</td>\n",
       "      <td>87.99</td>\n",
       "      <td>51.68</td>\n",
       "      <td>0.254021</td>\n",
       "      <td>0.22</td>\n",
       "      <td>Meertens</td>\n",
       "      <td>1968</td>\n",
       "      <td>1791</td>\n",
       "      <td>16--</td>\n",
       "    </tr>\n",
       "  </tbody>\n",
       "</table>\n",
       "</div>"
      ],
      "text/plain": [
       "                   identifier  \\\n",
       "0  ddd:010728187:mpeg21:a0005   \n",
       "\n",
       "                                             gt text  \\\n",
       "0  NEDERLANDEN. Valencijn, den 23 July. Sedert de...   \n",
       "\n",
       "                                            ocr text    CER    WER  \\\n",
       "0  NEDERLANDEN. Vakncijn, den j -> July. Scdeit d...  34.66  49.34   \n",
       "\n",
       "   WER (order independent)  dictionary lookup gt  dictionary lookup ocr  \\\n",
       "0                     46.1                 87.99                  51.68   \n",
       "\n",
       "   jaccard_coefficient  levenshtein_dist_normalized    source  word count gt  \\\n",
       "0             0.254021                         0.22  Meertens           1968   \n",
       "\n",
       "   word count ocr  year  \n",
       "0            1791  16--  "
      ]
     },
     "execution_count": 73,
     "metadata": {},
     "output_type": "execute_result"
    }
   ],
   "source": [
    "df_1_year.head(1)"
   ]
  },
  {
   "cell_type": "code",
   "execution_count": 74,
   "metadata": {},
   "outputs": [],
   "source": [
    "df_year = pd.concat([df_1_year, df_2_year, df_3_year, df_4_year, df_5_year])"
   ]
  },
  {
   "cell_type": "code",
   "execution_count": 75,
   "metadata": {},
   "outputs": [
    {
     "name": "stdout",
     "output_type": "stream",
     "text": [
      "38798\n",
      "38798\n"
     ]
    }
   ],
   "source": [
    "#length should be len(df)-2000\n",
    "print(len(df) - 2000)\n",
    "print(len(df_year))"
   ]
  },
  {
   "cell_type": "code",
   "execution_count": 76,
   "metadata": {},
   "outputs": [],
   "source": [
    "df_year['century'] = df_year['year'].apply(lambda x: str(x)[:2] + '00s')"
   ]
  },
  {
   "cell_type": "code",
   "execution_count": 77,
   "metadata": {},
   "outputs": [
    {
     "name": "stdout",
     "output_type": "stream",
     "text": [
      "                   identifier  \\\n",
      "0  ddd:010728187:mpeg21:a0005   \n",
      "1  ddd:010728188:mpeg21:a0001   \n",
      "2  ddd:010728188:mpeg21:a0002   \n",
      "3  ddd:010728188:mpeg21:a0003   \n",
      "4  ddd:010731495:mpeg21:a0001   \n",
      "\n",
      "                                             gt text  \\\n",
      "0  NEDERLANDEN. Valencijn, den 23 July. Sedert de...   \n",
      "1  VRANCKRYCK. PArijs, den 12 Augusti. Den Hertog...   \n",
      "2  DUYTSLANDT, &amp;c. Straetsburg, den 12 Aug. G...   \n",
      "3  NEDERLANDEN. Uyt het Leger onder sijne Hooghey...   \n",
      "4  Ordinarise Middel-weeckse Courante, No. 30. 16...   \n",
      "\n",
      "                                            ocr text    CER    WER  \\\n",
      "0  NEDERLANDEN. Vakncijn, den j -> July. Scdeit d...  34.66  49.34   \n",
      "1  VRANKRYK. PÜAriif , den 12 Den Hertog van Sund...  11.86  37.43   \n",
      "2  DUYTSLANDT, & C. Strertil-H,?, den ft Gifteren...  31.87  70.23   \n",
      "3  NEDERLANDEN. iVl.t het. Leger tndtr fi'yne Hoo...  17.50  51.32   \n",
      "4  Uyt Madrid , den 30 Jury. Stère .ïliajeflept t...  49.03  84.17   \n",
      "\n",
      "   WER (order independent)  dictionary lookup gt  dictionary lookup ocr  \\\n",
      "0                    46.10                 87.99                  51.68   \n",
      "1                    36.84                 93.10                  67.54   \n",
      "2                    66.05                 87.05                  55.03   \n",
      "3                    44.40                 86.12                  47.12   \n",
      "4                    83.33                 92.63                  47.73   \n",
      "\n",
      "   jaccard_coefficient  levenshtein_dist_normalized    source  word count gt  \\\n",
      "0             0.254021                         0.22  Meertens           1968   \n",
      "1             0.392045                         0.11  Meertens            169   \n",
      "2             0.163569                         0.31  Meertens            215   \n",
      "3             0.208452                         0.17  Meertens           3254   \n",
      "4             0.091954                         0.48  Meertens            118   \n",
      "\n",
      "   word count ocr  year century  \n",
      "0            1791  16--   1600s  \n",
      "1             162  16--   1600s  \n",
      "2             187  16--   1600s  \n",
      "3            3217  16--   1600s  \n",
      "4              98  16--   1600s  \n"
     ]
    }
   ],
   "source": [
    "print(df_year.head())"
   ]
  },
  {
   "cell_type": "code",
   "execution_count": 78,
   "metadata": {},
   "outputs": [
    {
     "name": "stdout",
     "output_type": "stream",
     "text": [
      "['1600s' '1700s' '1900s' '1800s']\n"
     ]
    }
   ],
   "source": [
    "print(df_year['century'].unique())"
   ]
  },
  {
   "cell_type": "code",
   "execution_count": 79,
   "metadata": {},
   "outputs": [],
   "source": [
    "#df_17th = df_year[df_year['century'] == '1600s']\n",
    "#df_18th = df_year[df_year['century'] == '1700s']\n",
    "#df_19th = df_year[df_year['century'] == '1800s']\n",
    "#df_20th = df_year[df_year['century'] == '1900s']"
   ]
  },
  {
   "cell_type": "code",
   "execution_count": 80,
   "metadata": {},
   "outputs": [],
   "source": [
    "#df_17th.head"
   ]
  },
  {
   "cell_type": "code",
   "execution_count": 81,
   "metadata": {},
   "outputs": [],
   "source": [
    "df_year.to_csv('df_centuries.csv', index=True)"
   ]
  }
 ],
 "metadata": {
  "kernelspec": {
   "display_name": "Python 3",
   "language": "python",
   "name": "python3"
  },
  "language_info": {
   "codemirror_mode": {
    "name": "ipython",
    "version": 3
   },
   "file_extension": ".py",
   "mimetype": "text/x-python",
   "name": "python",
   "nbconvert_exporter": "python",
   "pygments_lexer": "ipython3",
   "version": "3.7.4"
  }
 },
 "nbformat": 4,
 "nbformat_minor": 2
}
