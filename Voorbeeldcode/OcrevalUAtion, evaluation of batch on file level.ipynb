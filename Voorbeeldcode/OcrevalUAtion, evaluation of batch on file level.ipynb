{
 "cells": [
  {
   "cell_type": "markdown",
   "metadata": {},
   "source": [
    "# OcrevalUAtion: evaluation of a batch on file level\n",
    "\n",
    "This notebook provides a simple script to run the ocrevalUAtion tool (see: https://github.com/impactcentre/ocrevalUAtion) automatically through a batch of files. Whereas the outcome provided by the tool is the total number per category for the complete batch, this code provides an outcome on file level. The output is a .csv file, with for every file the 'CER', 'WER' and 'WER (order independent)' scores after comparison with the Ground Truth file. \n",
    "\n",
    "This code is written for files with a filename in this format: **\"idenitifier_pagenr_type.extension\"**\n",
    "\n",
    "**Identifier:** a unique code which is used in both the Ground Truth file and the OCR file <br> \n",
    "**Pagenr:** the pagenumber of the source that is captured in the file <br>\n",
    "**Type:** GT for Ground Truth, OCR for the OCR file to be evaluated <br>\n",
    "**Extension:** This can be any extensions that is allowed by the ocrevalUAtion tool. In this example .xml is used."
   ]
  },
  {
   "cell_type": "markdown",
   "metadata": {},
   "source": [
    "## Step 0: Import relevant packages"
   ]
  },
  {
   "cell_type": "code",
   "execution_count": 2,
   "metadata": {},
   "outputs": [],
   "source": [
    "import os\n",
    "import subprocess\n",
    "from time import sleep\n",
    "import pandas as pd\n",
    "from bs4 import BeautifulSoup\n",
    "from bs4.dammit import EncodingDetector"
   ]
  },
  {
   "cell_type": "markdown",
   "metadata": {},
   "source": [
    "## Step 1: Run the ocrevalUAtion tool for every fileset"
   ]
  },
  {
   "cell_type": "code",
   "execution_count": null,
   "metadata": {},
   "outputs": [],
   "source": [
    "path = # Insert the path to the directory in which you have stored the Ground Truth files\n",
    "location_jar_file = # Insert the path to where you have stored the 'ocrevalUAtion-1.3.4.jar' file\n",
    "\n",
    "# Iterate through all the Ground Truth files\n",
    "for filename in os.listdir(path):\n",
    "    # Split the filename, and extract the identifier and pagenr together as identifier \n",
    "    identifier = filename.split('_')[0] + \"_\" + filename.split('_')[1]\n",
    "    \n",
    "    file_gt = path + \"/\" + identifier + \"_GT.xml\"\n",
    "    file_ocr = # insert path and use the identifier to pick the right file, for example: \"path_to_ocr_files/identifier + \"_OCR.xml\n",
    "    output = # Choose the directory for the output and the name for the outputfile, for example \"path_to_output_directory/identifier_ocr.html\"\n",
    "\n",
    "    # Run the ocrevalUAtion tool with given parameters:\n",
    "    process = subprocess.call(\"java -cp \" + location_jar_file + \" eu.digitisation.Main -gt \" + file_gt + \" -ocr \"+ file_ocr +\" -o \" + output + \"\")\n",
    "\n",
    "    # Let the program wait for a few seconds, so the system does not get overloaded\n",
    "    sleep(5)"
   ]
  },
  {
   "cell_type": "markdown",
   "metadata": {},
   "source": [
    "## Step 2: Extract the scores from the output files and put them in a .csv file"
   ]
  },
  {
   "cell_type": "code",
   "execution_count": null,
   "metadata": {},
   "outputs": [],
   "source": [
    "path = # Insert the path to the directory in which the output files are stored\n",
    "#Create a dataframe to store the scores\n",
    "dfScore = pd.DataFrame(columns = ['identifier', 'CER', 'WER', 'WER (order independent)'])\n",
    "\n",
    "# Iterate through all the output files\n",
    "for filename in os.listdir(path):\n",
    "    # Open the file\n",
    "    soup = BeautifulSoup(open(path + \"/\" + filename, encoding='utf-8'))\n",
    "    # Split the filename, and extract the identifier and pagenr together as identifier \n",
    "    identifier = filename.split('_')[0] + \"_\" + filename.split('_')[1]\n",
    "    # Find the first table (this is the table in which the scores are stored)\n",
    "    table = soup.find(\"table\")\n",
    "    # Find the tags in which 'CER', 'WER', and 'WER (order independent)' are stored and take the next tag to get the score \n",
    "    cer = table.find('td', text='CER')\n",
    "    cerScore = cer.findNext('td')\n",
    "    wer = table.find('td', text='WER')\n",
    "    werScore = wer.findNext('td')\n",
    "    werOI = table.find('td', text='WER (order independent)')\n",
    "    werOIScore = werOI.findNext('td')\n",
    "    # Add the score of the file, including its identifier, to the dataframe\n",
    "    dfScore = dfScore.append({'identifier': filename, 'CER': cerScore.text, 'WER': werScore.text, 'WER (order independent)': werOIScore.text}, ignore_index = True)\n",
    "\n",
    "# Write the created dataframe to a .csv file\n",
    "dfScore.to_csv('Score_ocr_evalution.csv', sep=';')"
   ]
  },
  {
   "cell_type": "markdown",
   "metadata": {},
   "source": [
    "## Example output\n",
    "\n",
    ";identifier;CER;WER;WER (order independent) <br>\n",
    "0;file1;11,74;23,20;20,37 <br>\n",
    "1;file2;2,84;7,40;6,95 <br>\n",
    "2;file3;3,86;9,81;9,01 <br>\n",
    "3;file4;2,76;6,91;6,53 <br>\n",
    "4;file5;3,30;12,11;11,55 <br>\n",
    "5;file6;11,46;25,18;20,39 <br>"
   ]
  },
  {
   "cell_type": "markdown",
   "metadata": {},
   "source": [
    "## Example output in table\n",
    "|  identifier |      CER   |     WER   |WER (order independent)|\n",
    "|---|---|---|---|\n",
    "|  file 1 | 11,74  | 23,20  | 20,37   | \n",
    "|  file 2 | 2,84  |  7,40 | 6,95  |  \n",
    "|  file 3 |  3,86 |  9,81 | 9,01 | \n",
    "|  file 4 |  2,76 |  6,91 | 6,53 | \n",
    "|  file 5 |  3,30 |  12,11 | 11,55 | \n",
    "|  file 6 |  11,46 |  25,18 | 20,39 | "
   ]
  }
 ],
 "metadata": {
  "kernelspec": {
   "display_name": "Python 3",
   "language": "python",
   "name": "python3"
  },
  "language_info": {
   "codemirror_mode": {
    "name": "ipython",
    "version": 3
   },
   "file_extension": ".py",
   "mimetype": "text/x-python",
   "name": "python",
   "nbconvert_exporter": "python",
   "pygments_lexer": "ipython3",
   "version": "3.7.3"
  }
 },
 "nbformat": 4,
 "nbformat_minor": 2
}
