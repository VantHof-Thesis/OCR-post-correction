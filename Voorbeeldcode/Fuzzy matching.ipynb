{
 "cells": [
  {
   "cell_type": "code",
   "execution_count": 1,
   "metadata": {},
   "outputs": [],
   "source": [
    "import pandas as pd\n",
    "from difflib import SequenceMatcher"
   ]
  },
  {
   "cell_type": "code",
   "execution_count": null,
   "metadata": {},
   "outputs": [],
   "source": [
    "df = pd.read_csv('totalset.csv', compression = 'gzip')"
   ]
  },
  {
   "cell_type": "code",
   "execution_count": 6,
   "metadata": {},
   "outputs": [
    {
     "data": {
      "text/html": [
       "<div>\n",
       "<style scoped>\n",
       "    .dataframe tbody tr th:only-of-type {\n",
       "        vertical-align: middle;\n",
       "    }\n",
       "\n",
       "    .dataframe tbody tr th {\n",
       "        vertical-align: top;\n",
       "    }\n",
       "\n",
       "    .dataframe thead th {\n",
       "        text-align: right;\n",
       "    }\n",
       "</style>\n",
       "<table border=\"1\" class=\"dataframe\">\n",
       "  <thead>\n",
       "    <tr style=\"text-align: right;\">\n",
       "      <th></th>\n",
       "      <th>identifier</th>\n",
       "      <th>gt text</th>\n",
       "      <th>ocr text</th>\n",
       "      <th>CER</th>\n",
       "      <th>WER</th>\n",
       "      <th>WER (order independent)</th>\n",
       "      <th>dictionary lookup gt</th>\n",
       "      <th>dictionary lookup ocr</th>\n",
       "      <th>jaccard_coefficient</th>\n",
       "      <th>levenshtein_dist_normalized</th>\n",
       "      <th>source</th>\n",
       "    </tr>\n",
       "  </thead>\n",
       "  <tbody>\n",
       "    <tr>\n",
       "      <th>0</th>\n",
       "      <td>ddd:010728187:mpeg21:a0005</td>\n",
       "      <td>NEDERLANDEN. Valencijn, den 23 July. Sedert de...</td>\n",
       "      <td>NEDERLANDEN. Vakncijn, den j -&gt; July. Scdeit d...</td>\n",
       "      <td>34.66</td>\n",
       "      <td>49.34</td>\n",
       "      <td>46.10</td>\n",
       "      <td>87.99</td>\n",
       "      <td>51.68</td>\n",
       "      <td>0.254021</td>\n",
       "      <td>0.22</td>\n",
       "      <td>Meertens</td>\n",
       "    </tr>\n",
       "    <tr>\n",
       "      <th>1</th>\n",
       "      <td>ddd:010728188:mpeg21:a0001</td>\n",
       "      <td>VRANCKRYCK. PArijs, den 12 Augusti. Den Hertog...</td>\n",
       "      <td>VRANKRYK. PÜAriif , den 12 Den Hertog van Sund...</td>\n",
       "      <td>11.86</td>\n",
       "      <td>37.43</td>\n",
       "      <td>36.84</td>\n",
       "      <td>93.10</td>\n",
       "      <td>67.54</td>\n",
       "      <td>0.392045</td>\n",
       "      <td>0.11</td>\n",
       "      <td>Meertens</td>\n",
       "    </tr>\n",
       "  </tbody>\n",
       "</table>\n",
       "</div>"
      ],
      "text/plain": [
       "                   identifier  \\\n",
       "0  ddd:010728187:mpeg21:a0005   \n",
       "1  ddd:010728188:mpeg21:a0001   \n",
       "\n",
       "                                             gt text  \\\n",
       "0  NEDERLANDEN. Valencijn, den 23 July. Sedert de...   \n",
       "1  VRANCKRYCK. PArijs, den 12 Augusti. Den Hertog...   \n",
       "\n",
       "                                            ocr text    CER    WER  \\\n",
       "0  NEDERLANDEN. Vakncijn, den j -> July. Scdeit d...  34.66  49.34   \n",
       "1  VRANKRYK. PÜAriif , den 12 Den Hertog van Sund...  11.86  37.43   \n",
       "\n",
       "   WER (order independent)  dictionary lookup gt  dictionary lookup ocr  \\\n",
       "0                    46.10                 87.99                  51.68   \n",
       "1                    36.84                 93.10                  67.54   \n",
       "\n",
       "   jaccard_coefficient  levenshtein_dist_normalized    source  \n",
       "0             0.254021                         0.22  Meertens  \n",
       "1             0.392045                         0.11  Meertens  "
      ]
     },
     "execution_count": 6,
     "metadata": {},
     "output_type": "execute_result"
    }
   ],
   "source": [
    "df.head(2)"
   ]
  },
  {
   "cell_type": "code",
   "execution_count": 12,
   "metadata": {},
   "outputs": [],
   "source": [
    "test= df[df['identifier'] =='ddd:010728187:mpeg21:a0005']"
   ]
  },
  {
   "cell_type": "code",
   "execution_count": 16,
   "metadata": {},
   "outputs": [],
   "source": [
    "for index, row in test.iterrows():\n",
    "    gt_sentences = row['gt text'].split(\".\")\n",
    "    ocr_sentences = row['ocr text'].split(\".\") "
   ]
  },
  {
   "cell_type": "code",
   "execution_count": 63,
   "metadata": {},
   "outputs": [],
   "source": [
    "match_list = []\n",
    "\n",
    "for sentence in gt_sentences:\n",
    "    for match in ocr_sentences:\n",
    "        if SequenceMatcher(None, sentence, match).ratio() > 0.75:\n",
    "            match_list.extend([[sentence, match]])            "
   ]
  },
  {
   "cell_type": "code",
   "execution_count": 64,
   "metadata": {},
   "outputs": [
    {
     "data": {
      "text/plain": [
       "[['NEDERLANDEN', 'NEDERLANDEN'],\n",
       " [' Valencijn, den 23 July', ' Vakncijn, den j -> July'],\n",
       " [' Charleroy, den 24 July', ' Chariêrty, den 24 Juiy'],\n",
       " [' Monsr', ' Monlr'],\n",
       " [' Brussel, den 27 July', ' Bruffél, den z 7 July'],\n",
       " [\" Den 21 deser zijn de Franse voor Arien gekomen, onder den Maerschalck d\\\\'Humieres, ende hadden d\\\\'onse gedwongen het Fort St\",\n",
       "  \" Den 11 defer zijn de Fi anfevoor Arien geicomen , onder den i\\\\ aerfchalck d'Humicrcs, ende hadden d'onfegedwor\"],\n",
       " [' Lauarens te verlaten Binnen de voorsz',\n",
       "  ' Laurens te vei laten Binnen de vooriz'],\n",
       " [\" Stad is een seer out Soldaet tot Gouverneur gemaeckt, genaemt Comte de Broné, en is maer een advenue om aen te konnen komen, en buyten dat altemael Moeras, soo dat lang sal konnen houden; Ondertusschen is den Hertogh van Villa Hermosa met 16000 man in marsch, als mede den Velt-Maerschalck Waldeck, om de selve plaets t\\\\'ontsetten\",\n",
       "  \" Stad is een feer out Soldaet tot Gouverneur gemaeckt genaemt Comte de brooé, en is macr een auvenue om om aen te konnen komen, en buyten dat altemael MoerasJ, foo dat lang fal konnen houden; Ondertuffchen is den Hcrtogh van Villa liermofamet ióooomanin marfch , als mede den Velt-Maerfchalck Waldeck, om de felve t'ontfettcn\"],\n",
       " [' Het resterende Franse Leger is van Kivrain opgebroocken, ende heeft verleden nacht tot Pirrues gelegen, ontrent een uur van Condé op de wegh van Doornick gecampeert, ende zyn heden mede naer Arien ghemarcheert',\n",
       "  ' Htt refterende Franfe Leger is van Kivrain opgebroocken, ende heeft veileden nacht tot Pirrues gelegen , ontrent een uur van Condé op de wegh v'],\n",
       " [' Schans', ' Schans'],\n",
       " [' Van desen nacht sal den Capiceyn van de Mineurs het mineren beginnen, om te zien of men de Mijne kan ontdecken',\n",
       "  ' Van dcfen nacht fal den Capiceyn vande Mineurs bet mineren beginnen, om te zien of men de-Mijne kan ontdecken'],\n",
       " [' Gisteren begon men op het Bastion la Reyne te canonneren, dat geloove in een dag of twee zijn bekomst sal ontfangen',\n",
       "  ' Gift er en begon men op her Baftion la Reyne te canonneren, dat geloovc in een dag of twee zijn bekomft fal om fangen'],\n",
       " [' Desen namiddag zijn alhier aengekomen twee Schepen met Kruyt, met het Regiment van Graef Ruysch, dat mede Post gevat heeft voor Wijck',\n",
       "  ' Defen namiddag zijn alhier aengekomen twee Schepen mer Kruyt, met het Regiment van Graef Ruyfcli, dar mede Poft gevat heeft voor Vijck'],\n",
       " [' Regimenten zijn Touars, den jongen Prins Maurits en noch een derde',\n",
       "  ' Regimenten zijn Touars , den jongen Prins Maurits en noch een derde'],\n",
       " [\" Te nacht heeft sijne Excellentie den Heere Rijngrave wederom in de Approches geweest, en heeft insgelijcks ontfangen twee schoten, d\\\\'eene op sijn Borst doch niet deur, d\\\\' andere van achteren, even door \\\\'t Vel\",\n",
       "  \" Te nacht heeft fijne Excellentie den Hccre Rijngrave wederom in de Approches geweeft, en heefr infgelijcks omfangen twee fchoten , d'eencop fijn Botftdoch niet deur, d'andcre van achteren, even door 't Vel\"],\n",
       " [' Sijne Hoogheyt, is God lof, in goede gesontheyt, en gaet soo te Paert',\n",
       "  ' Sijne Hoogheytfis God lof, in goede gefontlieytj engaetfoote Paeit'],\n",
       " [' Wy hebben dese nacht wel geavanceert, en canonneren wederom seer sterck, en zijn gisteren de resterende twee heele Cartouwen en 3 halve op de Batteryen, nevens 4 Mortieren gebracht',\n",
       "  \" Wy hebben clel'e- nacht veePgeavancecrt, en canofincren wederom léer (lerck ,en ziin gift,ren de refterende twee heele Car-ouwen en 3 halve op de Batteryen, nevens4 lylortieren gebracht\"],\n",
       " [' De Franse hebben tot de klocke 10 uren niet een schoot uyt de Stadt gedaen, tot verwondering van een yder',\n",
       "  ' De j ranfe hebben tot de kloeke 10 uren niet een fclioot uyt de S ad: gedaen , tot verwondering van ten ;'],\n",
       " [' Het Leger onder den Velt-Maerschal den Grave van Waldeck, heeft eenighe dagen tot Wals Waveren, vier uren van dese Stadt gecampeert, ende werd geseght dat heden van daer sullen opbreecken',\n",
       "  ' Het Leger onderden Velt-Maerfchal den Grave van Waldeck, heeft eenighedagen tot Wals Waveren, vier uren van defc Stadt gecampeert, c-ndc werdt geftght dat heden van daer lullen opbreecken'],\n",
       " [\" Passagiers uyt gedachte Leger in\\\\'t sluyten hier aengekomen, rapporteren, dat het Leger dese morgen naer \\\\'t slaen vande reveille was opgebroocken, ende naer Vilvoorden gemarcheert\",\n",
       "  \"gckomen, rapporteren , dat hei Leger ekfe morgen naer 'tllacn vande reveille was opgebroocken , ende naer Vilvoorden gemarcheci t\"],\n",
       " [' Op den 25', ' Op den 25'],\n",
       " [\" \\\\'s middags hebben de onse seer hard en sonder op houden met Canon geschoten van 5 Batteryen, soo dat wy hier meende alles over hoop soude vallen\",\n",
       "  \" 's middags hebben de onfe feer barden lbnder op houden niet Canon gelchoten van 5 üatreryen , foo dar wy 1 -ic-r meende alles over hoop foude vallen\"],\n",
       " [' Het Eastioen genaemt den Dauphin is soo gestelt, dat geen repareren aen is, maer also men meent dat het ondermijnt is, sal men daer noch een of twee dagen voor verspillen',\n",
       "  ' Her Eaftioen genaeuit den Dauphin is foo geftelt, dat geen repareren aen is,macr alfo men meent dat het ondermijnt is , fal men daer noch een of twee dagen voor vcrfpillcn'],\n",
       " [' Het Regiment van Graef Ruysch bestaende in 6 Compagnien, is hier aengekomen, en heeft post gevat aen de kant van Wijk',\n",
       "  ' Regiment van Gracf Ruylcn beltacnac in 6 Co nien , is hier aengekomen , en heeft gevat kant van Wijk'],\n",
       " ['', ''],\n",
       " ['', ''],\n",
       " ['', ''],\n",
       " ['', ''],\n",
       " ['', ''],\n",
       " ['', ''],\n",
       " ['', ''],\n",
       " ['', ''],\n",
       " [\" Op den 26 dito \\\\'s morgens hebben wy gezien, dat sijne Hoogheyt de 4 Linie van den Berg hadt laten openen nader na de Stadt, uytkomende op de Schans in \\\\'t Boschevelt, daer 8 Veldstucken op geplant zijn\",\n",
       "  \" Op den 26 dito 's morgens hebben wy gezien , dat fijne Hoogheyt de4 Linie van den Berg hadt laten openen nader na de Stadt, uvekomende op de Schans in 't Bofchevelt, daer 8 Veldftucken op geplant zijn\"],\n",
       " [\" \\\\'s Morgens ten 5 uren ontstont een grooten brandt in de Stadt, door ons schieten, in een Hooy-berg, en duerde wel twee uren: de Franse dede dien dag maer twee schoten, en wordt sijne Hoogheyt versekert datter al 30 Canonniers zijn gebleven, waer onder twee die van ons zijn overgeloopen\",\n",
       "  \" 's Morgens ten 5 uren ontüont een nooten brandr in de Stadt, door ons fchieten , in een Hooy- berg, en duerde wel twee uren :de Fraiile dededien dag niaer twee fchoten, en wordt fijne Hoogfieyt verfekert datter al 30 Canonuiers zijn gebleven , «ratr onder twee die van ons zijn overgcloopen\"],\n",
       " [' Den Graef van Hoorn heeft op heden aen sijne Hoogheyt verhaelt, dat sedert den 22 tot heden toe, gedaen zijn 80 schoten uyt heele, en 8800 uyt halve Cartouwen, en 128 uyt 12 Ponders',\n",
       "  ' Den Graefvan Hoorn heeftop heden aen lijne Hoogheyt verhaclt, dat federt den 22 tot Leden toe , gedaen zijn So fchoten uyt hcclc, en Hbo uyt halve Cartouwen, en IxBuvt:irondcrs'],\n",
       " [' Monsr', ' Monlr'],\n",
       " ['', ''],\n",
       " ['', ''],\n",
       " ['', ''],\n",
       " ['', ''],\n",
       " ['', ''],\n",
       " ['', ''],\n",
       " ['', ''],\n",
       " ['', ''],\n",
       " [' Men is nu hier seer bezigh aen de Oorloghsschepen te arbeyden, om de selve haest in Zee te konnen brengen',\n",
       "  ' Men is nu bier feer bezigh aen de Oorloglisfchepen te arbeyden , om de fclve haefl in Zee te konnen brengen'],\n",
       " [' Admirael Willem Bastiaense, is met zijne onderhebbende Schepen naer Duyns, om de St',\n",
       "  ' Admirarf Willem Baftiaenfe , is met zijne onderhebbende Schepen naer Diiyns , om de St'],\n",
       " [' Ubesvaerders af te halen', ' Übcfvaerdcrs af te halen'],\n",
       " [' Voor de Maes onthouden zich eenige Vyandlijcke Capers',\n",
       "  ' Voor de Maes onthouden zich cenige Vyandlijcke Capcis'],\n",
       " [' Utrecht, den 30 July', ' Utrecht, den 30 July'],\n",
       " [' Heden is den Schout bx Nacht Almonde, nevens D',\n",
       "  ' Heden is den Sciioat bx Nacht Almonde, nevens D'],\n",
       " [' Uyt Weenen van den 16, dat den Heere Engelsen Ambassadeur Schelton sijne eerste Audientie gehadt heeft; versoeckende dat sijne Keyserl',\n",
       "  'lt Uyt Weenen van den 16, dit den He-ere En■■•■Hen Ambafladeut Schelton fijne eerfte Audiëntie gchadt heeft:, verfbeckende dat fijne Keyferl'],\n",
       " [' En soude den Grave van Trautson naer Spangien vertrecken',\n",
       "  ' En foude den Grave van Trautfon naer Spangien veren'],\n",
       " [' ', ' ']]"
      ]
     },
     "execution_count": 64,
     "metadata": {},
     "output_type": "execute_result"
    }
   ],
   "source": [
    "match_list"
   ]
  }
 ],
 "metadata": {
  "kernelspec": {
   "display_name": "Python 3",
   "language": "python",
   "name": "python3"
  },
  "language_info": {
   "codemirror_mode": {
    "name": "ipython",
    "version": 3
   },
   "file_extension": ".py",
   "mimetype": "text/x-python",
   "name": "python",
   "nbconvert_exporter": "python",
   "pygments_lexer": "ipython3",
   "version": "3.7.1"
  }
 },
 "nbformat": 4,
 "nbformat_minor": 2
}
