{
 "cells": [
  {
   "cell_type": "markdown",
   "metadata": {},
   "source": [
    "# Word aligment "
   ]
  },
  {
   "cell_type": "code",
   "execution_count": 1,
   "metadata": {},
   "outputs": [],
   "source": [
    "from difflib import SequenceMatcher"
   ]
  },
  {
   "cell_type": "code",
   "execution_count": 2,
   "metadata": {},
   "outputs": [],
   "source": [
    "def index_in_list(a_list, index):\n",
    "    return (index < len(a_list))"
   ]
  },
  {
   "cell_type": "code",
   "execution_count": 3,
   "metadata": {},
   "outputs": [],
   "source": [
    "def word_aligment(longSentence, shortSentence):\n",
    "    longSentence = longSentence.split(' ')\n",
    "    shortSentence = shortSentence.split(' ')\n",
    "    counter = 1\n",
    "    skipped = 0\n",
    "    new_shortSentence = []\n",
    "\n",
    "    for i in range(len(longSentence)):\n",
    "        match = False\n",
    "        if index_in_list(shortSentence, i):  \n",
    "            if SequenceMatcher(None, longSentence[i], shortSentence[i]).ratio() > 0.65:\n",
    "                new_shortSentence.append(shortSentence[i] + \"[\" + str(counter) + \"]\") \n",
    "                match = True\n",
    "            else:\n",
    "                j = i\n",
    "                while j > i - skipped:\n",
    "                    j = j - 1\n",
    "                    if index_in_list(shortSentence, j):\n",
    "                        if SequenceMatcher(None, longSentence[i], shortSentence[j]).ratio() > 0.65:\n",
    "                            new_shortSentence.append(shortSentence[j] + \"[\" + str(counter) + \"]\")\n",
    "                            match = True\n",
    "        else:\n",
    "            j = i\n",
    "            while j > i - skipped:\n",
    "                j = j - 1\n",
    "                if index_in_list(shortSentence, j):\n",
    "                    if SequenceMatcher(None, longSentence[i], shortSentence[j]).ratio() > 0.70:\n",
    "                        new_shortSentence.append(shortSentence[j] + \"[\" + str(counter) + \"]\")\n",
    "                        match = True\n",
    "        if match == False:\n",
    "            skipped +=1\n",
    "            new_shortSentence.append(\"**[\" + str(counter) + \"]\")    \n",
    "        longSentence[i] = longSentence[i] + \"[\" + str(counter) + \"]\"\n",
    "        counter += 1\n",
    "    return longSentence, new_shortSentence"
   ]
  },
  {
   "cell_type": "code",
   "execution_count": 4,
   "metadata": {},
   "outputs": [],
   "source": [
    "def word_aligment_equal(GT, OCR):\n",
    "    counter = 1\n",
    "    sentGT = GT.split(' ')\n",
    "    sentOCR = OCR.split(' ')\n",
    "    \n",
    "    for i in range(len(sentGT)):\n",
    "        sentGT[i] = sentGT[i] + \"[\" + str(counter) + \"]\"\n",
    "        sentOCR[i] = sentOCR[i] + \"[\" + str(counter) + \"]\"\n",
    "        counter += 1\n",
    "    return sentGT, sentOCR\n",
    "    "
   ]
  },
  {
   "cell_type": "markdown",
   "metadata": {},
   "source": [
    "## Test"
   ]
  },
  {
   "cell_type": "code",
   "execution_count": 5,
   "metadata": {},
   "outputs": [],
   "source": [
    "sentGT = \"Het Leger onder den Velt-Maerschal den Grave van Waldeck, heeft eenighe dagen tot Wals Waveren\"\n",
    "sentOCR = \"Het Leger onderden Velt-Maerfchal den Grave van Waldeck, heeft eenighedagen tot Wals Waveren\""
   ]
  },
  {
   "cell_type": "code",
   "execution_count": 6,
   "metadata": {},
   "outputs": [],
   "source": [
    "if len(sentGT.split(' ')) >  len(sentOCR.split(' ')):\n",
    "    sentences = word_aligment(sentGT, sentOCR)\n",
    "    GT = sentences[0]\n",
    "    OCR = sentences[1]\n",
    "if len(sentGT.split(' ')) <  len(sentOCR.split(' ')):\n",
    "    sentences = word_aligment(sentOCR, sentGT)\n",
    "    GT = sentences[1]\n",
    "    OCR = sentences[0]\n",
    "if len(sentGT.split(' ')) ==  len(sentOCR.split(' ')):\n",
    "    sentences = word_aligment_equal(sentGT, sentOCR)\n",
    "    GT = sentences[0]\n",
    "    OCR = sentences[1]"
   ]
  },
  {
   "cell_type": "code",
   "execution_count": 7,
   "metadata": {},
   "outputs": [
    {
     "name": "stdout",
     "output_type": "stream",
     "text": [
      "['Het[1]', 'Leger[2]', 'onder[3]', 'den[4]', 'Velt-Maerschal[5]', 'den[6]', 'Grave[7]', 'van[8]', 'Waldeck,[9]', 'heeft[10]', 'eenighe[11]', 'dagen[12]', 'tot[13]', 'Wals[14]', 'Waveren[15]']\n"
     ]
    }
   ],
   "source": [
    "print(GT)"
   ]
  },
  {
   "cell_type": "code",
   "execution_count": 8,
   "metadata": {},
   "outputs": [
    {
     "name": "stdout",
     "output_type": "stream",
     "text": [
      "['Het[1]', 'Leger[2]', 'onderden[3]', '**[4]', 'Velt-Maerfchal[5]', 'den[6]', 'Grave[7]', 'van[8]', 'Waldeck,[9]', 'heeft[10]', 'eenighedagen[11]', '**[12]', 'tot[13]', 'Wals[14]', 'Waveren[15]']\n"
     ]
    }
   ],
   "source": [
    "print(OCR)"
   ]
  },
  {
   "cell_type": "code",
   "execution_count": 9,
   "metadata": {},
   "outputs": [],
   "source": [
    "sentGT1 = \"Van desen nacht sal den Capiceyn van de Mineurs het mineren beginnen, om te zien of men de Mijne kan ontdecken\"\n",
    "sentOCR1 = \"Van dcfen nacht fal den Capiceyn vande Mineurs bet mineren beginnen, om te zien of men de-Mijne kan ontdecken\""
   ]
  },
  {
   "cell_type": "code",
   "execution_count": 10,
   "metadata": {},
   "outputs": [],
   "source": [
    "if len(sentGT1.split(' ')) >  len(sentOCR1.split(' ')):\n",
    "    sentences = word_aligment(sentGT1, sentOCR1)\n",
    "    GT1 = sentences[0]\n",
    "    OCR1 = sentences[1]\n",
    "if len(sentGT1.split(' ')) <  len(sentOCR1.split(' ')):\n",
    "    sentences = word_aligment(sentOCR1, sentGT1)\n",
    "    GT1 = sentences[1]\n",
    "    OCR1 = sentences[0]\n",
    "if len(sentGT1.split(' ')) ==  len(sentOCR1.split(' ')):\n",
    "    sentences = word_aligment_equal(sentGT1, sentOCR1)\n",
    "    GT1 = sentences[0]\n",
    "    OCR1 = sentences[1]"
   ]
  },
  {
   "cell_type": "code",
   "execution_count": 11,
   "metadata": {},
   "outputs": [
    {
     "name": "stdout",
     "output_type": "stream",
     "text": [
      "['Van[1]', 'desen[2]', 'nacht[3]', 'sal[4]', 'den[5]', 'Capiceyn[6]', 'van[7]', 'de[8]', 'Mineurs[9]', 'het[10]', 'mineren[11]', 'beginnen,[12]', 'om[13]', 'te[14]', 'zien[15]', 'of[16]', 'men[17]', 'de[18]', 'Mijne[19]', 'kan[20]', 'ontdecken[21]']\n"
     ]
    }
   ],
   "source": [
    "print(GT1)"
   ]
  },
  {
   "cell_type": "code",
   "execution_count": 12,
   "metadata": {},
   "outputs": [
    {
     "name": "stdout",
     "output_type": "stream",
     "text": [
      "['Van[1]', '**[2]', 'nacht[3]', 'fal[4]', 'den[5]', 'Capiceyn[6]', 'vande[7]', '**[8]', 'Mineurs[9]', 'bet[10]', 'mineren[11]', 'beginnen,[12]', 'om[13]', 'te[14]', 'zien[15]', 'of[16]', 'men[17]', '**[18]', 'de-Mijne[19]', 'kan[20]', 'ontdecken[21]']\n"
     ]
    }
   ],
   "source": [
    "print(OCR1)"
   ]
  },
  {
   "cell_type": "code",
   "execution_count": 13,
   "metadata": {},
   "outputs": [],
   "source": [
    "sentGT2 = \"Laurens te vei laten Binnen de vooriz\"\n",
    "sentOCR2 = \"Lauarens te verlaten Binnen de voorsz\""
   ]
  },
  {
   "cell_type": "code",
   "execution_count": 14,
   "metadata": {},
   "outputs": [],
   "source": [
    "if len(sentGT2.split(' ')) >  len(sentOCR2.split(' ')):\n",
    "    sentences = word_aligment(sentGT2, sentOCR2)\n",
    "    GT2 = sentences[0]\n",
    "    OCR2 = sentences[1]\n",
    "if len(sentGT2.split(' ')) <  len(sentOCR2.split(' ')):\n",
    "    sentences = word_aligment(sentOCR2, sentGT2)\n",
    "    GT2 = sentences[1]\n",
    "    OCR2 = sentences[0]\n",
    "if len(sentGT2.split(' ')) == len(sentOCR2.split(' ')):\n",
    "    sentences = word_aligment_equal(sentGT2, sentOCR2)\n",
    "    GT2 = sentences[0]\n",
    "    OCR2 = sentences[1]\n",
    "    "
   ]
  },
  {
   "cell_type": "code",
   "execution_count": 15,
   "metadata": {},
   "outputs": [
    {
     "name": "stdout",
     "output_type": "stream",
     "text": [
      "['Laurens[1]', 'te[2]', 'vei[3]', 'laten[4]', 'Binnen[5]', 'de[6]', 'vooriz[7]']\n"
     ]
    }
   ],
   "source": [
    "print(GT2)"
   ]
  },
  {
   "cell_type": "code",
   "execution_count": 16,
   "metadata": {},
   "outputs": [
    {
     "name": "stdout",
     "output_type": "stream",
     "text": [
      "['Lauarens[1]', 'te[2]', '**[3]', 'verlaten[4]', 'Binnen[5]', 'de[6]', 'voorsz[7]']\n"
     ]
    }
   ],
   "source": [
    "print(OCR2)"
   ]
  },
  {
   "cell_type": "code",
   "execution_count": 17,
   "metadata": {},
   "outputs": [],
   "source": [
    "sentGT3 =  \"De Franse hebben tot de klocke 10 uren niet een schoot uyt de Stadt gedaen, tot verwondering van een yder\"\n",
    "sentOCR3 = \"De j ranfe hebben tot de kloeke 10 uren niet een fclioot uyt de S ad: gedaen , tot verwondering van ten ;\""
   ]
  },
  {
   "cell_type": "code",
   "execution_count": 18,
   "metadata": {},
   "outputs": [],
   "source": [
    "if len(sentGT3.split(' ')) >  len(sentOCR3.split(' ')):\n",
    "    sentences = word_aligment(sentGT3, sentOCR3)\n",
    "    GT3 = sentences[0]\n",
    "    OCR3 = sentences[1]\n",
    "if len(sentGT3.split(' ')) <  len(sentOCR3.split(' ')):\n",
    "    sentences = word_aligment(sentOCR3, sentGT3)\n",
    "    GT3 = sentences[1]\n",
    "    OCR3 = sentences[0]\n",
    "if len(sentGT3.split(' ')) ==  len(sentOCR3.split(' ')):\n",
    "    sentences = word_aligment_equal(sentGT3, sentOCR3)\n",
    "    GT3 = sentences[0]\n",
    "    OCR3 = sentences[1]"
   ]
  },
  {
   "cell_type": "code",
   "execution_count": 19,
   "metadata": {},
   "outputs": [
    {
     "name": "stdout",
     "output_type": "stream",
     "text": [
      "['De[1]', '**[2]', 'Franse[3]', 'hebben[4]', 'tot[5]', 'de[6]', 'klocke[7]', '10[8]', 'uren[9]', 'niet[10]', 'een[11]', '**[12]', 'uyt[13]', 'de[14]', '**[15]', '**[16]', 'gedaen,[17]', '**[18]', 'tot[19]', 'verwondering[20]', 'van[21]', '**[22]', '**[23]']\n"
     ]
    }
   ],
   "source": [
    "print(GT3)"
   ]
  },
  {
   "cell_type": "code",
   "execution_count": 20,
   "metadata": {},
   "outputs": [
    {
     "name": "stdout",
     "output_type": "stream",
     "text": [
      "['De[1]', 'j[2]', 'ranfe[3]', 'hebben[4]', 'tot[5]', 'de[6]', 'kloeke[7]', '10[8]', 'uren[9]', 'niet[10]', 'een[11]', 'fclioot[12]', 'uyt[13]', 'de[14]', 'S[15]', 'ad:[16]', 'gedaen[17]', ',[18]', 'tot[19]', 'verwondering[20]', 'van[21]', 'ten[22]', ';[23]']\n"
     ]
    }
   ],
   "source": [
    "print(OCR3)"
   ]
  },
  {
   "cell_type": "code",
   "execution_count": 21,
   "metadata": {},
   "outputs": [],
   "source": [
    "sentGT4 = 'Regimenten zijn Touars, den jongen Prins Maurits en noch een derde'\n",
    "sentOCR4 = 'Regimenten zijn Touars , den jongen Prins Maurits en noch een derde'"
   ]
  },
  {
   "cell_type": "code",
   "execution_count": 22,
   "metadata": {},
   "outputs": [],
   "source": [
    "if len(sentGT4.split(' ')) >  len(sentOCR4.split(' ')):\n",
    "    sentences = word_aligment(sentGT4, sentOCR4)\n",
    "    GT4 = sentences[0]\n",
    "    OCR4 = sentences[1]\n",
    "if len(sentGT4.split(' ')) <  len(sentOCR4.split(' ')):\n",
    "    sentences = word_aligment(sentOCR4, sentGT4)\n",
    "    GT4 = sentences[1]\n",
    "    OCR4 = sentences[0]\n",
    "if len(sentGT4.split(' ')) ==  len(sentOCR4.split(' ')):\n",
    "    sentences = word_aligment_equal(sentGT4, sentOCR4)\n",
    "    GT4 = sentences[0]\n",
    "    OCR4 = sentences[1]"
   ]
  },
  {
   "cell_type": "code",
   "execution_count": 23,
   "metadata": {},
   "outputs": [
    {
     "name": "stdout",
     "output_type": "stream",
     "text": [
      "['Regimenten[1]', 'zijn[2]', 'Touars,[3]', '**[4]', 'den[5]', 'jongen[6]', 'Prins[7]', 'Maurits[8]', 'en[9]', 'noch[10]', 'een[11]', 'derde[12]']\n"
     ]
    }
   ],
   "source": [
    "print(GT4)"
   ]
  },
  {
   "cell_type": "code",
   "execution_count": 24,
   "metadata": {},
   "outputs": [
    {
     "name": "stdout",
     "output_type": "stream",
     "text": [
      "['Regimenten[1]', 'zijn[2]', 'Touars[3]', ',[4]', 'den[5]', 'jongen[6]', 'Prins[7]', 'Maurits[8]', 'en[9]', 'noch[10]', 'een[11]', 'derde[12]']\n"
     ]
    }
   ],
   "source": [
    "print(OCR4)"
   ]
  },
  {
   "cell_type": "code",
   "execution_count": 25,
   "metadata": {},
   "outputs": [],
   "source": [
    "sentGT5 = 'Men is nu hier seer bezigh aen de Oorloghsschepen te arbeyden, om de selve haest in Zee te konnen brengen'\n",
    "sentOCR5 = 'Men is nu bier feer bezigh aen de Oorloglisfchepen te arbeyden , om de fclve haefl in Zee te konnen brengen'"
   ]
  },
  {
   "cell_type": "code",
   "execution_count": 26,
   "metadata": {},
   "outputs": [],
   "source": [
    "if len(sentGT5.split(' ')) >  len(sentOCR5.split(' ')):\n",
    "    sentences = word_aligment(sentGT5, sentOCR5)\n",
    "    GT5 = sentences[0]\n",
    "    OCR5 = sentences[1]\n",
    "if len(sentGT5.split(' ')) <  len(sentOCR5.split(' ')):\n",
    "    sentences = word_aligment(sentOCR5, sentGT5)\n",
    "    GT5 = sentences[1]\n",
    "    OCR5 = sentences[0]\n",
    "if len(sentGT5.split(' ')) ==  len(sentOCR5.split(' ')):\n",
    "    sentences = word_aligment_equal(sentGT5, sentOCR5)\n",
    "    GT5 = sentences[0]\n",
    "    OCR5 = sentences[1]"
   ]
  },
  {
   "cell_type": "code",
   "execution_count": 27,
   "metadata": {},
   "outputs": [
    {
     "name": "stdout",
     "output_type": "stream",
     "text": [
      "['Men[1]', 'is[2]', 'nu[3]', 'hier[4]', 'seer[5]', 'bezigh[6]', 'aen[7]', 'de[8]', 'Oorloghsschepen[9]', 'te[10]', 'arbeyden,[11]', '**[12]', 'om[13]', 'de[14]', '**[15]', '**[16]', 'in[17]', 'Zee[18]', 'te[19]', 'konnen[20]', 'brengen[21]']\n"
     ]
    }
   ],
   "source": [
    "print(GT5)"
   ]
  },
  {
   "cell_type": "code",
   "execution_count": 28,
   "metadata": {},
   "outputs": [
    {
     "name": "stdout",
     "output_type": "stream",
     "text": [
      "['Men[1]', 'is[2]', 'nu[3]', 'bier[4]', 'feer[5]', 'bezigh[6]', 'aen[7]', 'de[8]', 'Oorloglisfchepen[9]', 'te[10]', 'arbeyden[11]', ',[12]', 'om[13]', 'de[14]', 'fclve[15]', 'haefl[16]', 'in[17]', 'Zee[18]', 'te[19]', 'konnen[20]', 'brengen[21]']\n"
     ]
    }
   ],
   "source": [
    "print(OCR5)"
   ]
  }
 ],
 "metadata": {
  "kernelspec": {
   "display_name": "Python 3",
   "language": "python",
   "name": "python3"
  },
  "language_info": {
   "codemirror_mode": {
    "name": "ipython",
    "version": 3
   },
   "file_extension": ".py",
   "mimetype": "text/x-python",
   "name": "python",
   "nbconvert_exporter": "python",
   "pygments_lexer": "ipython3",
   "version": "3.7.1"
  }
 },
 "nbformat": 4,
 "nbformat_minor": 2
}
